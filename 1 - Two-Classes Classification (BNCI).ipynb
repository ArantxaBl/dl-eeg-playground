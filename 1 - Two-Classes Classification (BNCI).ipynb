{
 "cells": [
  {
   "cell_type": "code",
   "execution_count": 6,
   "metadata": {
    "scrolled": true
   },
   "outputs": [],
   "source": [
    "import scipy.io as sio\n",
    "d1T = sio.loadmat('BBCIData/S14T.mat')\n",
    "d1E = sio.loadmat('BBCIData/S14E.mat')"
   ]
  },
  {
   "cell_type": "code",
   "execution_count": 9,
   "metadata": {},
   "outputs": [
    {
     "data": {
      "text/plain": [
       "(1, 5)"
      ]
     },
     "execution_count": 9,
     "metadata": {},
     "output_type": "execute_result"
    }
   ],
   "source": [
    "d1T['data'].shape"
   ]
  },
  {
   "cell_type": "code",
   "execution_count": 77,
   "metadata": {},
   "outputs": [
    {
     "data": {
      "text/plain": [
       "array([ array([[ (array([[ 0.,  0.,  0., ...,  0.,  0.,  0.],\n",
       "       [ 0.,  0.,  0., ...,  0.,  0.,  0.],\n",
       "       [ 0.,  0.,  0., ...,  0.,  0.,  0.],\n",
       "       ..., \n",
       "       [ 0.,  0.,  0., ...,  0.,  0.,  0.],\n",
       "       [ 0.,  0.,  0., ...,  0.,  0.,  0.],\n",
       "       [ 0.,  0.,  0., ...,  0.,  0.,  0.]]), array([[  5121,  10435,  15725,  21315,  26866,  32408,  37675,  43213,\n",
       "         48759,  53995,  59583,  65138,  70529,  76128,  81422,  86817,\n",
       "         92222,  97814, 103036, 108423]], dtype=int32), array([[2, 2, 1, 2, 2, 2, 2, 2, 1, 1, 1, 1, 2, 1, 2, 1, 1, 1, 1, 2]], dtype=uint8), array([[512]], dtype=uint16), array([[array(['right hand'],\n",
       "      dtype='<U10'),\n",
       "        array(['feet'],\n",
       "      dtype='<U4')]], dtype=object))]],\n",
       "      dtype=[('X', 'O'), ('trial', 'O'), ('y', 'O'), ('fs', 'O'), ('classes', 'O')]),\n",
       "       array([[ (array([[ 0.,  0.,  0., ...,  0.,  0.,  0.],\n",
       "       [ 0.,  0.,  0., ...,  0.,  0.,  0.],\n",
       "       [ 0.,  0.,  0., ...,  0.,  0.,  0.],\n",
       "       ..., \n",
       "       [ 0.,  0.,  0., ...,  0.,  0.,  0.],\n",
       "       [ 0.,  0.,  0., ...,  0.,  0.,  0.],\n",
       "       [ 0.,  0.,  0., ...,  0.,  0.,  0.]]), array([[  5121,  10330,  15599,  21137,  26506,  32107,  37433,  43031,\n",
       "         48658,  53819,  59256,  64881,  70369,  75807,  81059,  86203,\n",
       "         91354,  96538, 101736, 107232]], dtype=int32), array([[2, 1, 1, 1, 1, 2, 1, 2, 2, 1, 2, 1, 2, 2, 2, 2, 2, 1, 1, 1]], dtype=uint8), array([[512]], dtype=uint16), array([[array(['right hand'],\n",
       "      dtype='<U10'),\n",
       "        array(['feet'],\n",
       "      dtype='<U4')]], dtype=object))]],\n",
       "      dtype=[('X', 'O'), ('trial', 'O'), ('y', 'O'), ('fs', 'O'), ('classes', 'O')]),\n",
       "       array([[ (array([[ 0.,  0.,  0., ...,  0.,  0.,  0.],\n",
       "       [ 0.,  0.,  0., ...,  0.,  0.,  0.],\n",
       "       [ 0.,  0.,  0., ...,  0.,  0.,  0.],\n",
       "       ..., \n",
       "       [ 0.,  0.,  0., ...,  0.,  0.,  0.],\n",
       "       [ 0.,  0.,  0., ...,  0.,  0.,  0.],\n",
       "       [ 0.,  0.,  0., ...,  0.,  0.,  0.]]), array([[  5121,  10739,  15996,  21457,  26875,  32213,  37560,  43107,\n",
       "         48349,  53931,  59498,  64980,  70265,  75767,  81112,  86703,\n",
       "         92205,  97625, 103232, 108527]], dtype=int32), array([[1, 2, 2, 1, 1, 2, 2, 2, 1, 1, 2, 2, 1, 2, 1, 2, 1, 1, 2, 1]], dtype=uint8), array([[512]], dtype=uint16), array([[array(['right hand'],\n",
       "      dtype='<U10'),\n",
       "        array(['feet'],\n",
       "      dtype='<U4')]], dtype=object))]],\n",
       "      dtype=[('X', 'O'), ('trial', 'O'), ('y', 'O'), ('fs', 'O'), ('classes', 'O')]),\n",
       "       array([[ (array([[ 0.,  0.,  0., ...,  0.,  0.,  0.],\n",
       "       [ 0.,  0.,  0., ...,  0.,  0.,  0.],\n",
       "       [ 0.,  0.,  0., ...,  0.,  0.,  0.],\n",
       "       ..., \n",
       "       [ 0.,  0.,  0., ...,  0.,  0.,  0.],\n",
       "       [ 0.,  0.,  0., ...,  0.,  0.,  0.],\n",
       "       [ 0.,  0.,  0., ...,  0.,  0.,  0.]]), array([[  5121,  10415,  15734,  21074,  26674,  32197,  37577,  43107,\n",
       "         48722,  53878,  59032,  64646,  70127,  75580,  80818,  86209,\n",
       "         91692,  96891, 102100, 107309]], dtype=int32), array([[1, 1, 2, 1, 1, 1, 1, 1, 2, 1, 2, 2, 2, 1, 2, 2, 2, 2, 1, 2]], dtype=uint8), array([[512]], dtype=uint16), array([[array(['right hand'],\n",
       "      dtype='<U10'),\n",
       "        array(['feet'],\n",
       "      dtype='<U4')]], dtype=object))]],\n",
       "      dtype=[('X', 'O'), ('trial', 'O'), ('y', 'O'), ('fs', 'O'), ('classes', 'O')]),\n",
       "       array([[ (array([[ 0.,  0.,  0., ...,  0.,  0.,  0.],\n",
       "       [ 0.,  0.,  0., ...,  0.,  0.,  0.],\n",
       "       [ 0.,  0.,  0., ...,  0.,  0.,  0.],\n",
       "       ..., \n",
       "       [ 0.,  0.,  0., ...,  0.,  0.,  0.],\n",
       "       [ 0.,  0.,  0., ...,  0.,  0.,  0.],\n",
       "       [ 0.,  0.,  0., ...,  0.,  0.,  0.]]), array([[  5121,  10289,  15748,  21234,  26658,  31959,  37404,  42611,\n",
       "         47768,  53005,  58149,  63417,  68712,  74193,  79348,  84667,\n",
       "         90253,  95844, 101462, 106708]], dtype=int32), array([[2, 2, 1, 1, 2, 2, 1, 1, 1, 2, 2, 1, 2, 1, 1, 2, 2, 2, 1, 1]], dtype=uint8), array([[512]], dtype=uint16), array([[array(['right hand'],\n",
       "      dtype='<U10'),\n",
       "        array(['feet'],\n",
       "      dtype='<U4')]], dtype=object))]],\n",
       "      dtype=[('X', 'O'), ('trial', 'O'), ('y', 'O'), ('fs', 'O'), ('classes', 'O')])], dtype=object)"
      ]
     },
     "execution_count": 77,
     "metadata": {},
     "output_type": "execute_result"
    }
   ],
   "source": [
    "len(d1T['data'][0]) # this returns 5 items\n",
    "d1T['data'][0] # 5 runs of 20 trials\n",
    "d1E['data'][0] # 3 runs of 20 trials\n"
   ]
  },
  {
   "cell_type": "code",
   "execution_count": 83,
   "metadata": {},
   "outputs": [
    {
     "data": {
      "text/plain": [
       "(112640, 15)"
      ]
     },
     "execution_count": 83,
     "metadata": {},
     "output_type": "execute_result"
    }
   ],
   "source": [
    "d1E['data'][0][0][0][0][0].shape    # 220 seconds (whole run) and 15 channels"
   ]
  },
  {
   "cell_type": "code",
   "execution_count": 84,
   "metadata": {},
   "outputs": [
    {
     "data": {
      "text/plain": [
       "array([[  5121,  10495,  15692,  21258,  26655,  31942,  37206,  42611,\n",
       "         47800,  53323,  58865,  64231,  69501,  74907,  80129,  85574,\n",
       "         91048,  96399, 101734, 106918]], dtype=int32)"
      ]
     },
     "execution_count": 84,
     "metadata": {},
     "output_type": "execute_result"
    }
   ],
   "source": [
    "d1E['data'][0][0][0][0][1] # timestamps"
   ]
  },
  {
   "cell_type": "code",
   "execution_count": 85,
   "metadata": {},
   "outputs": [
    {
     "data": {
      "text/plain": [
       "array([[2, 1, 2, 1, 1, 1, 2, 2, 1, 2, 2, 1, 2, 2, 1, 1, 1, 1, 2, 2]], dtype=uint8)"
      ]
     },
     "execution_count": 85,
     "metadata": {},
     "output_type": "execute_result"
    }
   ],
   "source": [
    "d1E['data'][0][0][0][0][2] # labels"
   ]
  },
  {
   "cell_type": "code",
   "execution_count": 86,
   "metadata": {},
   "outputs": [
    {
     "data": {
      "text/plain": [
       "array([[512]], dtype=uint16)"
      ]
     },
     "execution_count": 86,
     "metadata": {},
     "output_type": "execute_result"
    }
   ],
   "source": [
    "d1E['data'][0][0][0][0][3] # sampling rate"
   ]
  },
  {
   "cell_type": "code",
   "execution_count": 87,
   "metadata": {},
   "outputs": [
    {
     "data": {
      "text/plain": [
       "array([[array(['right hand'],\n",
       "      dtype='<U10'),\n",
       "        array(['feet'],\n",
       "      dtype='<U4')]], dtype=object)"
      ]
     },
     "execution_count": 87,
     "metadata": {},
     "output_type": "execute_result"
    }
   ],
   "source": [
    "d1E['data'][0][0][0][0][4] # meta-data"
   ]
  },
  {
   "cell_type": "code",
   "execution_count": null,
   "metadata": {},
   "outputs": [],
   "source": []
  }
 ],
 "metadata": {
  "kernelspec": {
   "display_name": "Python 3",
   "language": "python",
   "name": "python3"
  },
  "language_info": {
   "codemirror_mode": {
    "name": "ipython",
    "version": 3
   },
   "file_extension": ".py",
   "mimetype": "text/x-python",
   "name": "python",
   "nbconvert_exporter": "python",
   "pygments_lexer": "ipython3",
   "version": "3.5.4"
  }
 },
 "nbformat": 4,
 "nbformat_minor": 2
}
